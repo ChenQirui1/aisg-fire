{
 "cells": [
  {
   "cell_type": "code",
   "execution_count": 1,
   "metadata": {},
   "outputs": [],
   "source": [
    "import numpy as np\n",
    "from skimage import color, restoration\n",
    "from skimage.restoration import wiener\n",
    "from scipy.signal import convolve2d\n",
    "import cv2\n",
    "    "
   ]
  },
  {
   "attachments": {},
   "cell_type": "markdown",
   "metadata": {},
   "source": [
    "Testing algo outlined in https://jivp-eurasipjournals.springeropen.com/articles/10.1186/s13640-018-0251-4\n",
    "And implemented in https://learnopencv.com/improving-illumination-in-night-time-images/"
   ]
  },
  {
   "cell_type": "code",
   "execution_count": 2,
   "metadata": {},
   "outputs": [],
   "source": [
    "import cv2\n",
    "import numpy as np\n",
    " \n",
    "def get_illumination_channel(I, w):\n",
    "    M, N, _ = I.shape\n",
    "    # padding for channels\n",
    "    padded = np.pad(I, ((int(w/2), int(w/2)), (int(w/2), int(w/2)), (0, 0)), 'edge')\n",
    "    darkch = np.zeros((M, N))\n",
    "    brightch = np.zeros((M, N))\n",
    " \n",
    "    for i, j in np.ndindex(darkch.shape):\n",
    "        darkch[i, j] = np.min(padded[i:i + w, j:j + w, :]) # dark channel\n",
    "        brightch[i, j] = np.max(padded[i:i + w, j:j + w, :]) # bright channel\n",
    " \n",
    "    return darkch, brightch"
   ]
  },
  {
   "cell_type": "code",
   "execution_count": 3,
   "metadata": {},
   "outputs": [],
   "source": [
    "def get_atmosphere(I, brightch, p=0.1):\n",
    "    M, N = brightch.shape\n",
    "    flatI = I.reshape(M*N, 3) # reshaping image array\n",
    "    flatbright = brightch.ravel() #flattening image array\n",
    " \n",
    "    searchidx = (-flatbright).argsort()[:int(M*N*p)] # sorting and slicing\n",
    "    A = np.mean(flatI.take(searchidx, axis=0), dtype=np.float64, axis=0)\n",
    "    return A"
   ]
  },
  {
   "cell_type": "code",
   "execution_count": 4,
   "metadata": {},
   "outputs": [],
   "source": [
    "def get_initial_transmission(A, brightch):\n",
    "    A_c = np.max(A)\n",
    "    init_t = (brightch-A_c)/(1.-A_c) # finding initial transmission map\n",
    "    return (init_t - np.min(init_t))/(np.max(init_t) - np.min(init_t)) # normalized initial transmission map\n"
   ]
  },
  {
   "cell_type": "code",
   "execution_count": 5,
   "metadata": {},
   "outputs": [],
   "source": [
    "def get_corrected_transmission(I, A, darkch, brightch, init_t, alpha, omega, w):\n",
    "    im = np.empty(I.shape, I.dtype);\n",
    "    for ind in range(0, 3):\n",
    "        im[:, :, ind] = I[:, :, ind] / A[ind] #divide pixel values by atmospheric light\n",
    "    dark_c, _ = get_illumination_channel(im, w) # dark channel transmission map\n",
    "    dark_t = 1 - omega*dark_c # corrected dark transmission map\n",
    "    corrected_t = init_t # initializing corrected transmission map with initial transmission map\n",
    "    diffch = brightch - darkch # difference between transmission maps\n",
    " \n",
    "    for i in range(diffch.shape[0]):\n",
    "        for j in range(diffch.shape[1]):\n",
    "            if(diffch[i, j] < alpha):\n",
    "                corrected_t[i, j] = dark_t[i, j] * init_t[i, j]\n",
    " \n",
    "    return np.abs(corrected_t)"
   ]
  },
  {
   "cell_type": "code",
   "execution_count": 6,
   "metadata": {},
   "outputs": [],
   "source": [
    "def get_final_image(I, A, refined_t, tmin):\n",
    "    refined_t_broadcasted = np.broadcast_to(refined_t[:, :, None], (refined_t.shape[0], refined_t.shape[1], 3)) # duplicating the channel of 2D refined map to 3 channels\n",
    "    J = (I-A) / (np.where(refined_t_broadcasted < tmin, tmin, refined_t_broadcasted)) + A # finding result \n",
    " \n",
    "    return (J - np.min(J))/(np.max(J) - np.min(J)) # normalized image"
   ]
  },
  {
   "cell_type": "code",
   "execution_count": null,
   "metadata": {},
   "outputs": [],
   "source": [
    "def dehaze(I, tmin=0.1, w=15, alpha=0.4, omega=0.75, p=0.1, eps=1e-3, reduce=False):\n",
    "    I = np.asarray(im, dtype=np.float64) # Convert the input to a float array.\n",
    "    I = I[:, :, :3] / 255\n",
    "    m, n, _ = I.shape\n",
    "    Idark, Ibright = get_illumination_channel(I, w)\n",
    "    A = get_atmosphere(I, Ibright, p)\n",
    " \n",
    "    init_t = get_initial_transmission(A, Ibright) \n",
    "    if reduce:\n",
    "        init_t = reduce_init_t(init_t)\n",
    "    corrected_t = get_corrected_transmission(I, A, Idark, Ibright, init_t, alpha, omega, w)\n",
    " \n",
    "    normI = (I - I.min()) / (I.max() - I.min())\n",
    "    refined_t = guided_filter(normI, corrected_t, w, eps) # applying guided filter\n",
    "    J_refined = get_final_image(I, A, refined_t, tmin)\n",
    "     \n",
    "    enhanced = (J_refined*255).astype(np.uint8)\n",
    "    f_enhanced = cv2.detailEnhance(enhanced, sigma_s=10, sigma_r=0.15)\n",
    "    f_enhanced = cv2.edgePreservingFilter(f_enhanced, flags=1, sigma_s=64, sigma_r=0.2)\n",
    "    return f_enhanced"
   ]
  },
  {
   "cell_type": "code",
   "execution_count": null,
   "metadata": {},
   "outputs": [],
   "source": [
    "def reduce_init_t(init_t):\n",
    "    init_t = (init_t*255).astype(np.uint8) \n",
    "    xp = [0, 32, 255]\n",
    "    fp = [0, 32, 48]\n",
    "    x = np.arange(256) # creating array [0,...,255]\n",
    "    table = np.interp(x, xp, fp).astype('uint8') # interpreting fp according to xp in range of x\n",
    "    init_t = cv2.LUT(init_t, table) # lookup table\n",
    "    init_t = init_t.astype(np.float64)/255 # normalizing the transmission map\n",
    "    return init_t"
   ]
  },
  {
   "cell_type": "code",
   "execution_count": null,
   "metadata": {},
   "outputs": [],
   "source": [
    "img = cv2.imread(\"fawazlul-rizqi-8I-gdwRMw_M-unsplash.jpg\")\n",
    "\n",
    "dark, bright =  get_illumination_channel(img,)\n"
   ]
  }
 ],
 "metadata": {
  "kernelspec": {
   "display_name": "firefire",
   "language": "python",
   "name": "python3"
  },
  "language_info": {
   "codemirror_mode": {
    "name": "ipython",
    "version": 3
   },
   "file_extension": ".py",
   "mimetype": "text/x-python",
   "name": "python",
   "nbconvert_exporter": "python",
   "pygments_lexer": "ipython3",
   "version": "3.8.16"
  },
  "orig_nbformat": 4,
  "vscode": {
   "interpreter": {
    "hash": "72d1a34be1a2b9cae63e53f53192361cd5341fb9018598ffd1a17623ebe15ff0"
   }
  }
 },
 "nbformat": 4,
 "nbformat_minor": 2
}
